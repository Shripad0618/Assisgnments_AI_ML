{
 "cells": [
  {
   "cell_type": "code",
   "execution_count": 1,
   "metadata": {},
   "outputs": [],
   "source": [
    "#Question 1\n",
    "class Triangle:\n",
    "\n",
    "    def __init__ (self, side1,side2,side3):\n",
    "        self.side1=side1\n",
    "        self.side2=side2\n",
    "        self.side3=side3\n",
    "\n",
    "class Area(Triangle):\n",
    "    def __init__(self,*args):\n",
    "        try:\n",
    "            super(Area,self).__init__(*args)\n",
    "            self.side1=int(input(\"Enter Side 1: \"))\n",
    "            self.side2=int(input(\"Enter Side 2: \"))\n",
    "            self.side3=int(input(\"Enter Side 3: \"))\n",
    "            s=(self.side1+self.side2+self.side3)/2\n",
    "            import math\n",
    "            return print(\"The Area of triangle is: {}\".format(math.sqrt(s*(s-self.side1)*(s-self.side2)*(s-self.side3))))\n",
    "        except:\n",
    "            print(\"\\nThe sides you enetered is incorrect to form a triangle. Please enter correct sides!!\")\n",
    "        \n",
    "side1,side2,side3=1,1,1\n"
   ]
  },
  {
   "cell_type": "code",
   "execution_count": 2,
   "metadata": {},
   "outputs": [
    {
     "name": "stdout",
     "output_type": "stream",
     "text": [
      "Enter Side 1: 10\n",
      "Enter Side 2: 10\n",
      "Enter Side 3: 10\n",
      "The Area of triangle is: 43.30127018922193\n"
     ]
    }
   ],
   "source": [
    "s=Area(side1,side2,side3)"
   ]
  },
  {
   "cell_type": "code",
   "execution_count": 36,
   "metadata": {},
   "outputs": [],
   "source": [
    "#Question 2\n",
    "\n",
    "#If user wants to enter a complete sentence\n",
    "\n",
    "class wordsinput:\n",
    "    def __init__(self,n,string):\n",
    "        self.n=int(input(\"Enter the comparison integer\"))\n",
    "        self.string=input(\"Enter the sentence: \")\n",
    "    \n",
    "    def filter_long_words(self):\n",
    "        if self.n > len(self.string.split()):\n",
    "            print(\"The integer is greater than the number of words in the sentence!!\")\n",
    "        else:\n",
    "            print(\"The integer is lesser than the number of words in the sentence!!\")\n",
    "a=1\n",
    "b=\"A\""
   ]
  },
  {
   "cell_type": "code",
   "execution_count": 37,
   "metadata": {},
   "outputs": [
    {
     "name": "stdout",
     "output_type": "stream",
     "text": [
      "Enter the comparison integer4\n",
      "Enter the sentence: Shripad Kumar is working in FLipkart\n",
      "The integer is lesser than the number of words in the sentence!!\n"
     ]
    }
   ],
   "source": [
    "s=wordsinput(a,b)\n",
    "wordsinput.filter_long_words(s)"
   ]
  },
  {
   "cell_type": "code",
   "execution_count": 54,
   "metadata": {},
   "outputs": [],
   "source": [
    "#Question 2\n",
    "\n",
    "#If user wants to enter word by word\n",
    "\n",
    "class wordsinput:\n",
    "    def wordlength():\n",
    "        n=int(input(\"Enter the comparison integer: \"))\n",
    "        p=[]\n",
    "        no_of_words=int(input(\"How many words you want to enter?: \"))\n",
    "        for i in range(no_of_words):\n",
    "            print(\"Enter {} word\".format(i+1))\n",
    "            s=input()\n",
    "            p.append(s)\n",
    "        print(\"The words which are greater than comparison ineteger {} is \".format(n))\n",
    "\n",
    "        for i in range(len(p)):\n",
    "            if n < len(list(p[i])):\n",
    "                print(p[i])"
   ]
  },
  {
   "cell_type": "code",
   "execution_count": 56,
   "metadata": {},
   "outputs": [
    {
     "name": "stdout",
     "output_type": "stream",
     "text": [
      "Enter the comparison integer: 2\n",
      "How many words you want to enter?: 3\n",
      "Enter 1 word\n",
      "sad\n",
      "Enter 2 word\n",
      "asd\n",
      "Enter 3 word\n",
      "df\n",
      "The words which are greater than comparison ineteger 2 is \n",
      "sad\n",
      "asd\n"
     ]
    }
   ],
   "source": [
    "wordsinput.wordlength()"
   ]
  },
  {
   "cell_type": "code",
   "execution_count": 59,
   "metadata": {},
   "outputs": [],
   "source": [
    "#Question 3\n",
    "def map_word_integer(n):\n",
    "    l=[]\n",
    "    for i in range(n):\n",
    "        print(\"Enter {} word\".format(i+1))\n",
    "        a=input()\n",
    "        l.append(a)\n",
    "    s=[]\n",
    "    for i in range(len(l)):\n",
    "        s.append(len(list(l[i]))) \n",
    "    print(\"The length of the corresponding worders are\")\n",
    "    print(s)"
   ]
  },
  {
   "cell_type": "code",
   "execution_count": 60,
   "metadata": {},
   "outputs": [
    {
     "name": "stdout",
     "output_type": "stream",
     "text": [
      "Enter 1 word\n",
      "asdf\n",
      "Enter 2 word\n",
      "sdf\n",
      "Enter 3 word\n",
      "sdf\n",
      "Enter 4 word\n",
      "gs\n",
      "Enter 5 word\n",
      "sdg\n",
      "The length of the corresponding worders are\n",
      "[4, 3, 3, 2, 3]\n"
     ]
    }
   ],
   "source": [
    "map_word_integer(5)"
   ]
  },
  {
   "cell_type": "code",
   "execution_count": 34,
   "metadata": {},
   "outputs": [],
   "source": [
    "#Question 4\n",
    "\n",
    "\n",
    "def vowel():\n",
    "    x=input(\"Enter a word: \").upper()\n",
    "    vowel=['A','E','I','O','U']\n",
    "    if list(x)[0] in vowel:\n",
    "        print(\"The entered word is a vowel\")\n",
    "    else:\n",
    "        print(\"The entered word is not a vowel\")"
   ]
  },
  {
   "cell_type": "code",
   "execution_count": 35,
   "metadata": {},
   "outputs": [
    {
     "name": "stdout",
     "output_type": "stream",
     "text": [
      "Enter a word: Egg\n",
      "The entered word is a vowel\n"
     ]
    }
   ],
   "source": [
    "vowel()"
   ]
  }
 ],
 "metadata": {
  "kernelspec": {
   "display_name": "Python 3",
   "language": "python",
   "name": "python3"
  },
  "language_info": {
   "codemirror_mode": {
    "name": "ipython",
    "version": 3
   },
   "file_extension": ".py",
   "mimetype": "text/x-python",
   "name": "python",
   "nbconvert_exporter": "python",
   "pygments_lexer": "ipython3",
   "version": "3.8.5"
  }
 },
 "nbformat": 4,
 "nbformat_minor": 4
}
