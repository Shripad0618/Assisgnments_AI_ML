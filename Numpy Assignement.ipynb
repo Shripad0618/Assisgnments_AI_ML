{
 "cells": [
  {
   "cell_type": "code",
   "execution_count": 21,
   "metadata": {},
   "outputs": [
    {
     "name": "stdout",
     "output_type": "stream",
     "text": [
      "input=[1, 2, 3, 4, 5, 6]\t N=7\n",
      "\n",
      "\tYour vandermonde matrix is \n",
      " ==================================================\n",
      " [[    1     1     1     1     1     1     1]\n",
      " [   64    32    16     8     4     2     1]\n",
      " [  729   243    81    27     9     3     1]\n",
      " [ 4096  1024   256    64    16     4     1]\n",
      " [15625  3125   625   125    25     5     1]\n",
      " [46656  7776  1296   216    36     6     1]]\n"
     ]
    }
   ],
   "source": [
    "import numpy as np\n",
    "#question 1\n",
    "x=[1,2,3,4,5,6]\n",
    "N=7\n",
    "p=list(range(N))\n",
    "l=[]\n",
    "for s in range(len(x)):\n",
    "    for i in p:\n",
    "        r=x[(s+1)*-1]**p[((i+1)*-1)]\n",
    "        l.append(r)\n",
    "b=np.asarray(l)\n",
    "c=b.reshape(len(x),N)[::-1]\n",
    "print(\"input={}\\t N={}\\n\\n\\tYour vandermonde matrix is \\n {}\\n {}\".format(x,N,\"=\"*50,c))"
   ]
  },
  {
   "cell_type": "code",
   "execution_count": 22,
   "metadata": {},
   "outputs": [
    {
     "name": "stdout",
     "output_type": "stream",
     "text": [
      "The 1th moving average of 3,5,7 = 9.75\n",
      "The 2th moving average of 5,7,2 = 12.5\n",
      "The 3th moving average of 7,2,8 = 11.0\n",
      "The 4th moving average of 2,8,10 = 12.5\n",
      "The 5th moving average of 8,10,11 = 20.75\n",
      "The 6th moving average of 10,11,65 = 37.25\n",
      "The 7th moving average of 11,65,72 = 94.0\n",
      "The 8th moving average of 65,72,81 = 157.25\n",
      "The 9th moving average of 72,81,99 = 177.75\n",
      "The 10th moving average of 81,99,100 = 205.0\n",
      "The 11th moving average of 99,100,150 = 236.5\n"
     ]
    }
   ],
   "source": [
    "#question 2\n",
    "x=[3, 5, 7, 2, 8, 10, 11, 65, 72, 81, 99, 100, 150]\n",
    "k=3\n",
    "n=len(x)\n",
    "moving_average=n-k+1\n",
    "moving_average\n",
    "result=[]\n",
    "s=list(range(moving_average))\n",
    "for i in s:\n",
    "    print(\"The {}th moving average of {},{},{} = {}\".format(i+1,x[i],x[i+1],x[i+2],x[i]+x[i+1]+x[i+2]/4))"
   ]
  },
  {
   "cell_type": "code",
   "execution_count": null,
   "metadata": {},
   "outputs": [],
   "source": []
  }
 ],
 "metadata": {
  "kernelspec": {
   "display_name": "Python 3",
   "language": "python",
   "name": "python3"
  },
  "language_info": {
   "codemirror_mode": {
    "name": "ipython",
    "version": 3
   },
   "file_extension": ".py",
   "mimetype": "text/x-python",
   "name": "python",
   "nbconvert_exporter": "python",
   "pygments_lexer": "ipython3",
   "version": "3.7.6"
  }
 },
 "nbformat": 4,
 "nbformat_minor": 4
}
